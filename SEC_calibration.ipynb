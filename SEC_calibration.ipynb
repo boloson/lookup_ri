{
  "nbformat": 4,
  "nbformat_minor": 0,
  "metadata": {
    "colab": {
      "provenance": [],
      "include_colab_link": true
    },
    "kernelspec": {
      "name": "python3",
      "display_name": "Python 3"
    }
  },
  "cells": [
    {
      "cell_type": "markdown",
      "metadata": {
        "id": "view-in-github",
        "colab_type": "text"
      },
      "source": [
        "<a href=\"https://colab.research.google.com/github/boloson/lookup_ri/blob/master/SEC_calibration.ipynb\" target=\"_parent\"><img src=\"https://colab.research.google.com/assets/colab-badge.svg\" alt=\"Open In Colab\"/></a>"
      ]
    },
    {
      "cell_type": "code",
      "metadata": {
        "id": "KGeV6HoPIqou"
      },
      "source": [
        "import numpy as np"
      ],
      "execution_count": 1,
      "outputs": []
    },
    {
      "cell_type": "code",
      "metadata": {
        "id": "RL_PL-8jIul-"
      },
      "source": [
        "# Retetion time and Molecular mass of Pullulan standards.\n",
        "# rt = [25.658, 27.271, 28.598, 30.083, 31.674, 32.909, 34.273, 34.934]\n",
        "rt = [41.376, 43.842, 46.053, 48.079, 50.581, 52.868, 54.895, 56.000]\n",
        "Mp = [6.42e5, 3.34e5, 2.01e5, 1.06e5, 4.94e4, 2.20e4, 9.8e3, 6.3e3]\n",
        "\n",
        "# Convert to Log scale\n",
        "logMp = np.log10(Mp)"
      ],
      "execution_count": 11,
      "outputs": []
    },
    {
      "cell_type": "code",
      "metadata": {
        "id": "vfsg1I2VJS1t",
        "colab": {
          "base_uri": "https://localhost:8080/"
        },
        "outputId": "595f27b9-7ace-4fef-d11c-6f979a40c024"
      },
      "source": [
        "# Create a polynomial fit model\n",
        "degree = 5\n",
        "fit = np.polyfit(rt, logMp, degree)\n",
        "print (fit)"
      ],
      "execution_count": 12,
      "outputs": [
        {
          "output_type": "stream",
          "name": "stdout",
          "text": [
            "[-2.69384767e-06  6.69974070e-04 -6.65202091e-02  3.29251392e+00\n",
            " -8.12983254e+01  8.07922310e+02]\n"
          ]
        }
      ]
    },
    {
      "cell_type": "code",
      "metadata": {
        "id": "wGq_pKN7JmdN"
      },
      "source": [
        "# Create a evaluation program\n",
        "p = np.poly1d(fit)"
      ],
      "execution_count": 13,
      "outputs": []
    },
    {
      "cell_type": "code",
      "metadata": {
        "id": "7mtBLLZBJqGW"
      },
      "source": [
        "# Sample retention times\n",
        "sample_rt = [37.132,47.197]"
      ],
      "execution_count": 28,
      "outputs": []
    },
    {
      "cell_type": "code",
      "metadata": {
        "id": "jCVtcitdlYMR",
        "colab": {
          "base_uri": "https://localhost:8080/"
        },
        "outputId": "42868efc-3bfa-4788-fe82-1a21ddd85ccb"
      },
      "source": [
        "sample_mw = p(sample_rt)\n",
        "print (\"logMp:\", sample_mw)"
      ],
      "execution_count": 29,
      "outputs": [
        {
          "output_type": "stream",
          "name": "stdout",
          "text": [
            "logMp: [6.67956776 5.15160496]\n"
          ]
        }
      ]
    },
    {
      "cell_type": "code",
      "metadata": {
        "id": "I9C6vB0NlZpI",
        "colab": {
          "base_uri": "https://localhost:8080/"
        },
        "outputId": "d0389358-2e99-4375-e40a-5b3f636cbf10"
      },
      "source": [
        "print(\"Molecular Weight:\", 10**sample_mw)"
      ],
      "execution_count": 30,
      "outputs": [
        {
          "output_type": "stream",
          "name": "stdout",
          "text": [
            "Molecular Weight: [4781539.58793643  141776.73170866]\n"
          ]
        }
      ]
    },
    {
      "cell_type": "code",
      "metadata": {
        "id": "MAdopD6El1xw",
        "colab": {
          "base_uri": "https://localhost:8080/",
          "height": 34
        },
        "outputId": "8052fd26-70ab-4b32-aac4-88c9df3dc7e0"
      },
      "source": [
        "sample_rt = [40.161, 40.597, 45.866]\n",
        "sample_mw = p(sample_rt)\n",
        "print (sample_mw)"
      ],
      "execution_count": null,
      "outputs": [
        {
          "output_type": "stream",
          "text": [
            "[ 4.35493923  4.7629811  21.60485381]\n"
          ],
          "name": "stdout"
        }
      ]
    },
    {
      "cell_type": "code",
      "metadata": {
        "id": "BxFZlV1ZmB2H",
        "colab": {
          "base_uri": "https://localhost:8080/",
          "height": 34
        },
        "outputId": "4cc6683a-a987-493b-b977-342f85aba489"
      },
      "source": [
        "10**sample_mw"
      ],
      "execution_count": null,
      "outputs": [
        {
          "output_type": "execute_result",
          "data": {
            "text/plain": [
              "array([43830.48487411, 32030.44156179, 22007.09586222])"
            ]
          },
          "metadata": {
            "tags": []
          },
          "execution_count": 15
        }
      ]
    },
    {
      "cell_type": "code",
      "metadata": {
        "id": "Tn8MV6ILUcmz",
        "colab": {
          "base_uri": "https://localhost:8080/",
          "height": 51
        },
        "outputId": "dcd11143-ec96-451c-b38c-bb6f1f197add"
      },
      "source": [
        "rt = [17.232,18.143,18.931,19.519,20.162,20.799,21.293,21.555]\n",
        "Mp = [6.42e5, 3.34e5, 2.01e5, 1.06e5, 4.94e4, 2.20e4, 9.8e3, 6.3e3]\n",
        "\n",
        "logMp = np.log10(Mp)\n",
        "fit = np.polyfit(rt, logMp, 5)\n",
        "print (fit)"
      ],
      "execution_count": null,
      "outputs": [
        {
          "output_type": "stream",
          "text": [
            "[-5.98359857e-03  5.84772448e-01 -2.28288020e+01  4.44928101e+02\n",
            " -4.32894438e+03  1.68267706e+04]\n"
          ],
          "name": "stdout"
        }
      ]
    },
    {
      "cell_type": "code",
      "metadata": {
        "id": "7e0vfNU4U1Cy"
      },
      "source": [
        "p = np.poly1d(fit)"
      ],
      "execution_count": null,
      "outputs": []
    },
    {
      "cell_type": "code",
      "metadata": {
        "id": "KG08-qBLUqop",
        "colab": {
          "base_uri": "https://localhost:8080/",
          "height": 34
        },
        "outputId": "8aae1e7a-ed17-4c61-b65e-bea7d6f79cb3"
      },
      "source": [
        "sample_rt = 22.124\n",
        "sample_mw = p(sample_rt)\n",
        "print (10**sample_mw)"
      ],
      "execution_count": null,
      "outputs": [
        {
          "output_type": "stream",
          "text": [
            "1317.4793446286326\n"
          ],
          "name": "stdout"
        }
      ]
    },
    {
      "cell_type": "code",
      "metadata": {
        "id": "yPZ_PwHsU3mg",
        "colab": {
          "base_uri": "https://localhost:8080/",
          "height": 34
        },
        "outputId": "8c6119d4-c979-46bc-878d-192b950c27bf"
      },
      "source": [
        "sample_rt = 19.758\n",
        "sample_mw = p(sample_rt)\n",
        "print (10**sample_mw)"
      ],
      "execution_count": null,
      "outputs": [
        {
          "output_type": "stream",
          "text": [
            "81881.23140047485\n"
          ],
          "name": "stdout"
        }
      ]
    },
    {
      "cell_type": "code",
      "metadata": {
        "id": "5jqQ_MckU_Tg",
        "colab": {
          "base_uri": "https://localhost:8080/",
          "height": 51
        },
        "outputId": "de7c8d9f-1400-4e55-dcde-96ecb17a7953"
      },
      "source": [
        "sample_rt = 19.456\n",
        "sample_mw = p(sample_rt)\n",
        "print (sample_mw)\n",
        "print (10**sample_mw)"
      ],
      "execution_count": null,
      "outputs": [
        {
          "output_type": "stream",
          "text": [
            "5.065564680739044\n",
            "116295.97410794333\n"
          ],
          "name": "stdout"
        }
      ]
    },
    {
      "cell_type": "code",
      "metadata": {
        "id": "n2UQLdHgVCUo",
        "colab": {
          "base_uri": "https://localhost:8080/",
          "height": 34
        },
        "outputId": "71c994bf-7252-40f8-c17d-e087cf916437"
      },
      "source": [
        "sample_rt = 18.048\n",
        "sample_mw = p(sample_rt)\n",
        "print (10**sample_mw)"
      ],
      "execution_count": null,
      "outputs": [
        {
          "output_type": "stream",
          "text": [
            "353750.3126164826\n"
          ],
          "name": "stdout"
        }
      ]
    },
    {
      "cell_type": "code",
      "metadata": {
        "id": "f4E-WyvrVqoY",
        "colab": {
          "base_uri": "https://localhost:8080/",
          "height": 34
        },
        "outputId": "8b0ffc93-c8f7-4330-dc07-656314c8e7ab"
      },
      "source": [
        "sample_rt = 19.303\n",
        "sample_mw = p(sample_rt)\n",
        "print (10**sample_mw)"
      ],
      "execution_count": null,
      "outputs": [
        {
          "output_type": "stream",
          "text": [
            "137276.02948394025\n"
          ],
          "name": "stdout"
        }
      ]
    },
    {
      "cell_type": "code",
      "metadata": {
        "id": "8CHhAFYzV4OQ"
      },
      "source": [
        "sample_rt = 2\n",
        "sample_mw = p(sample_rt)\n",
        "print (10**sample_mw)"
      ],
      "execution_count": null,
      "outputs": []
    },
    {
      "cell_type": "code",
      "metadata": {
        "id": "jA69Ecp3tqSW",
        "colab": {
          "base_uri": "https://localhost:8080/",
          "height": 51
        },
        "outputId": "a4139e41-3224-4570-a7fc-491ede0461b0"
      },
      "source": [
        "rt = [34.714, 36.596, 37.575, 38.753, 40.132, 41.166, 42.124, 42.579, 45.654]\n",
        "Mp = [6.42e5, 3.34e5, 2.01e5, 1.06e5, 4.94e4, 2.20e4, 9.8e3, 6.3e3, 342.2965]\n",
        "logMp = np.log10(Mp)\n",
        "\n",
        "fit = np.polyfit(rt, logMp, 5)\n",
        "print (fit)\n",
        "\n",
        "p = np.poly1d(fit)"
      ],
      "execution_count": null,
      "outputs": [
        {
          "output_type": "stream",
          "text": [
            "[ 1.17507034e-04 -2.32971154e-02  1.84326876e+00 -7.27680082e+01\n",
            "  1.43344547e+03 -1.12655961e+04]\n"
          ],
          "name": "stdout"
        }
      ]
    },
    {
      "cell_type": "code",
      "metadata": {
        "id": "JHes1UvpuKga",
        "colab": {
          "base_uri": "https://localhost:8080/",
          "height": 34
        },
        "outputId": "5e31adb3-f4af-4882-b4ca-6ce1ebd90274"
      },
      "source": [
        "sample_rt = 43.824\n",
        "sample_mw = p(sample_rt)\n",
        "print (\"MW:\", 10**sample_mw)"
      ],
      "execution_count": null,
      "outputs": [
        {
          "output_type": "stream",
          "text": [
            "MW: 1661.0309198174023\n"
          ],
          "name": "stdout"
        }
      ]
    },
    {
      "cell_type": "code",
      "metadata": {
        "id": "FuPKa1SxLDdw"
      },
      "source": [],
      "execution_count": null,
      "outputs": []
    },
    {
      "cell_type": "code",
      "metadata": {
        "id": "V4fi-BvguUNp",
        "colab": {
          "base_uri": "https://localhost:8080/"
        },
        "outputId": "71b233b4-2b79-4841-8f2b-a71cb405ea51"
      },
      "source": [
        "sample_rt = 36.013\n",
        "\n",
        "sample_mw = p(sample_rt)\n",
        "print (\"MW:\", 10**sample_mw)"
      ],
      "execution_count": 17,
      "outputs": [
        {
          "output_type": "stream",
          "name": "stdout",
          "text": [
            "MW: 13192201.184225256\n"
          ]
        }
      ]
    },
    {
      "cell_type": "code",
      "metadata": {
        "id": "qM0xcvKuuZ-5",
        "colab": {
          "base_uri": "https://localhost:8080/",
          "height": 51
        },
        "outputId": "1fb1a82d-dae1-4ef5-d2d5-a6f03170c157"
      },
      "source": [
        "import numpy as np\n",
        "rt = [34.883,36.3684,37.616,38.659,39.96,45.664,42.099,42.587,45.638]\n",
        "Mp = [6.42e5, 3.34e5, 2.01e5, 1.06e5, 4.94e4, 2.20e4, 9.8e3, 6.3e3, 342.2965]\n",
        "logMp = np.log10(Mp)\n",
        "\n",
        "fit = np.polyfit(rt, logMp, 5)\n",
        "print (fit)\n",
        "\n",
        "p = np.poly1d(fit)"
      ],
      "execution_count": null,
      "outputs": [
        {
          "output_type": "stream",
          "text": [
            "[ 6.21696573e-04 -1.23052877e-01  9.72177379e+00 -3.83240782e+02\n",
            "  7.53837308e+03 -5.91847833e+04]\n"
          ],
          "name": "stdout"
        }
      ]
    },
    {
      "cell_type": "code",
      "metadata": {
        "id": "k3L4Xc4YLEBw",
        "colab": {
          "base_uri": "https://localhost:8080/",
          "height": 34
        },
        "outputId": "32f73ee7-5080-4073-c6d4-e4f2f14ee47d"
      },
      "source": [
        "sample_rt = 45.806\n",
        "sample_mw = p(sample_rt)\n",
        "print (\"MW:\", 10**sample_mw)"
      ],
      "execution_count": null,
      "outputs": [
        {
          "output_type": "stream",
          "text": [
            "MW: 5012.911346166801\n"
          ],
          "name": "stdout"
        }
      ]
    }
  ]
}